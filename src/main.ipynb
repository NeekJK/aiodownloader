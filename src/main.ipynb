{
 "cells": [
  {
   "cell_type": "code",
   "execution_count": null,
   "metadata": {},
   "outputs": [],
   "source": [
    "import requests"
   ]
  },
  {
   "cell_type": "code",
   "execution_count": null,
   "metadata": {},
   "outputs": [],
   "source": [
    "headers = {\n",
    "        'User-Agent': 'Mozilla/5.0 (Windows NT 10.0; Win64; x64) AppleWebKit/537.36 (KHTML, like Gecko) Chrome/121.0.0.0 Safari/537.36'\n",
    "    }\n",
    "\n",
    "\n",
    "a = \"\"\n",
    "bti = \"\"\n",
    "ch = 0\n",
    "cr = \"\"\n",
    "dr = \"\"\n",
    "lr = \"\"\n",
    "cd = \"\"\n",
    "cv = \"\"\n",
    "br = \"\"\n",
    "bt = \"\"\n",
    "cs = \"\"\n",
    "ds = \"\"\n",
    "ft = \"\"\n",
    "mime_type = \"\"\n",
    "qs = \"\"\n",
    "rc = \"\"\n",
    "btag = \"\"\n",
    "expire = \"\"\n",
    "l = \"\"\n",
    "ply_type = \"\"\n",
    "policy = \"\"\n",
    "signature = \"\"\n",
    "tk =\"\"\n",
    "\n",
    "\n",
    "video = {\n",
    "    \"url\": \"https://v16-webapp-prime.tiktok.com/video/tos/useast2a/tos-useast2a-pve-0068/oMQcIgBJRpdbAzDnhFDNfuK2kNgEJERQJ9lvBe/\",\n",
    "            \"params\": {\n",
    "                \"a\": a,\n",
    "                \"bti\": bti,\n",
    "                \"ch\": ch,\n",
    "                \"cr\": cr,\n",
    "                \"dr\": dr,\n",
    "                \"lr\": lr,\n",
    "                \"cd\": cd,\n",
    "                \"cv\": cv,\n",
    "                \"br\": br,\n",
    "                \"bt\": bt,\n",
    "                \"cs\": cs,\n",
    "                \"ds\": ds,\n",
    "                \"ft\": ft,\n",
    "                \"mime_type\": mime_type,\n",
    "                \"qs\": qs,\n",
    "                \"rc\": rc,\n",
    "                \"btag\": btag,\n",
    "                \"expire\": expire,\n",
    "                \"l\": l,\n",
    "                \"ply_type\": ply_type,\n",
    "                \"policy\": policy,\n",
    "                \"signature\": signature,\n",
    "                \"tk\": tk\n",
    "                } \n",
    "}\n"
   ]
  },
  {
   "cell_type": "markdown",
   "metadata": {},
   "source": [
    "<table data-start=\"1266\" data-end=\"3728\"><thead data-start=\"1266\" data-end=\"1366\"><tr data-start=\"1266\" data-end=\"1366\"><th data-start=\"1266\" data-end=\"1287\"><strong data-start=\"1268\" data-end=\"1281\">Parameter</strong></th><th data-start=\"1287\" data-end=\"1366\"><strong data-start=\"1289\" data-end=\"1300\">Meaning</strong></th></tr></thead><tbody data-start=\"1466\" data-end=\"3728\"><tr data-start=\"1466\" data-end=\"1564\"><td><code data-start=\"1468\" data-end=\"1476\">a=1988</code></td><td><strong data-start=\"1489\" data-end=\"1507\">App identifier</strong> – This likely identifies TikTok's <strong data-start=\"1542\" data-end=\"1556\">web player</strong>.</td></tr><tr data-start=\"1565\" data-end=\"1663\"><td><code data-start=\"1567\" data-end=\"1585\">bti=ODszNWYuMDE6</code></td><td><strong data-start=\"1588\" data-end=\"1612\">Base64-encoded token</strong> – Possibly tracks session info.</td></tr><tr data-start=\"1664\" data-end=\"1762\"><td><code data-start=\"1666\" data-end=\"1672\">ch=0</code></td><td><strong data-start=\"1687\" data-end=\"1698\">Channel</strong> – May refer to TikTok’s delivery or compression channel.</td></tr><tr data-start=\"1763\" data-end=\"1861\"><td><code data-start=\"1765\" data-end=\"1771\">cr=3</code></td><td><strong data-start=\"1786\" data-end=\"1799\">Code rate</strong> – Indicates video quality or bitrate control.</td></tr><tr data-start=\"1862\" data-end=\"1960\"><td><code data-start=\"1864\" data-end=\"1870\">dr=0</code></td><td><strong data-start=\"1885\" data-end=\"1901\">Dynamic rate</strong> – Possibly disables adaptive bitrate streaming (ABR).</td></tr><tr data-start=\"1961\" data-end=\"2059\"><td><code data-start=\"1963\" data-end=\"1971\">lr=all</code></td><td><strong data-start=\"1984\" data-end=\"2009\">Location restrictions</strong> – Likely allows playback in <strong data-start=\"2038\" data-end=\"2053\">all regions</strong>.</td></tr><tr data-start=\"2060\" data-end=\"2158\"><td><code data-start=\"2062\" data-end=\"2079\">cd=0%7C0%7C0%7C</code></td><td><strong data-start=\"2083\" data-end=\"2105\">Content dimensions</strong> – Unknown, possibly video dimensions or codec info.</td></tr><tr data-start=\"2159\" data-end=\"2257\"><td><code data-start=\"2161\" data-end=\"2167\">cv=1</code></td><td><strong data-start=\"2182\" data-end=\"2200\">Client version</strong> – Ensures compatibility with specific client versions.</td></tr><tr data-start=\"2258\" data-end=\"2355\"><td><code data-start=\"2260\" data-end=\"2269\">br=3172</code></td><td><strong data-start=\"2281\" data-end=\"2292\">Bitrate</strong> – Video bitrate (in kbps).</td></tr><tr data-start=\"2356\" data-end=\"2453\"><td><code data-start=\"2358\" data-end=\"2367\">bt=1586</code></td><td><strong data-start=\"2379\" data-end=\"2394\">Buffer time</strong> – Buffering configuration, likely in milliseconds.</td></tr><tr data-start=\"2454\" data-end=\"2551\"><td><code data-start=\"2456\" data-end=\"2462\">cs=0</code></td><td><strong data-start=\"2477\" data-end=\"2489\">Checksum</strong> – May be a placeholder or CRC check for integrity.</td></tr><tr data-start=\"2552\" data-end=\"2649\"><td><code data-start=\"2554\" data-end=\"2560\">ds=6</code></td><td><strong data-start=\"2575\" data-end=\"2594\">Download Source</strong> – Indicates the media origin (CDN node identifier).</td></tr><tr data-start=\"2650\" data-end=\"2747\"><td><code data-start=\"2652\" data-end=\"2664\">ft=-Csk...</code></td><td><strong data-start=\"2673\" data-end=\"2690\">Feature token</strong> – Possibly a security or DRM token.</td></tr><tr data-start=\"2748\" data-end=\"2847\"><td><code data-start=\"2750\" data-end=\"2771\">mime_type=video_mp4</code></td><td><strong data-start=\"2774\" data-end=\"2787\">File type</strong> – Video is delivered as an MP4 file.</td></tr><tr data-start=\"2848\" data-end=\"2945\"><td><code data-start=\"2850\" data-end=\"2856\">qs=0</code></td><td><strong data-start=\"2871\" data-end=\"2889\">Quality switch</strong> – Likely controls the ability to change video quality.</td></tr><tr data-start=\"2946\" data-end=\"3043\"><td><code data-start=\"2948\" data-end=\"2956\">rc=...</code></td><td><strong data-start=\"2969\" data-end=\"2986\">Resource code</strong> – Encoded metadata about the requested resource.</td></tr><tr data-start=\"3044\" data-end=\"3141\"><td><code data-start=\"3046\" data-end=\"3062\">btag=e00088000</code></td><td><strong data-start=\"3067\" data-end=\"3080\">Batch tag</strong> – Possibly a tracking ID for bulk requests.</td></tr><tr data-start=\"3142\" data-end=\"3238\"><td><code data-start=\"3144\" data-end=\"3163\">expire=1740072770</code></td><td><strong data-start=\"3165\" data-end=\"3184\">Expiration time</strong> – UNIX timestamp (epoch time) for link expiration.</td></tr><tr data-start=\"3239\" data-end=\"3339\"><td><code data-start=\"3241\" data-end=\"3262\">l=20250219013205...</code></td><td><strong data-start=\"3265\" data-end=\"3279\">Session ID</strong> – A unique session or user token.</td></tr><tr data-start=\"3340\" data-end=\"3436\"><td><code data-start=\"3342\" data-end=\"3354\">ply_type=2</code></td><td><strong data-start=\"3363\" data-end=\"3380\">Playback type</strong> – Controls how the media is played (2 = progressive).</td></tr><tr data-start=\"3437\" data-end=\"3533\"><td><code data-start=\"3439\" data-end=\"3449\">policy=2</code></td><td><strong data-start=\"3460\" data-end=\"3477\">Access policy</strong> – Defines how strict access is (e.g., DRM level).</td></tr><tr data-start=\"3534\" data-end=\"3631\"><td><code data-start=\"3536\" data-end=\"3551\">signature=...</code></td><td><strong data-start=\"3557\" data-end=\"3578\">Request signature</strong> – A cryptographic signature for verifying validity.</td></tr><tr data-start=\"3632\" data-end=\"3728\"><td><code data-start=\"3634\" data-end=\"3653\">tk=tt_chain_token</code></td><td><strong data-start=\"3655\" data-end=\"3664\">Token</strong> – Another form of session or authorization tracking.</td></tr></tbody></table>"
   ]
  },
  {
   "cell_type": "code",
   "execution_count": null,
   "metadata": {},
   "outputs": [
    {
     "name": "stdout",
     "output_type": "stream",
     "text": [
      "Downloading from: https://v16-webapp-prime.tiktok.com/video/tos/useast2a/tos-useast2a-pve-0068/oMQcIgBJRpdbAzDnhFDNfuK2kNgEJERQJ9lvBe/\n",
      "Error downloading video: 403 Client Error: Forbidden for url: https://v16-webapp-prime.tiktok.com/video/tos/useast2a/tos-useast2a-pve-0068/oMQcIgBJRpdbAzDnhFDNfuK2kNgEJERQJ9lvBe/?a=1988&bti=ODszNWYuMDE6&ch=0&cr=3&dr=0&lr=all&cd=0%257C0%257C0%257C&cv=1&br=3172&bt=1586&cs=0&ds=6&ft=-Csk_mc3PD12NeqgCE-UxgRFSY6e3wv25NcAp&mime_type=video_mp4&qs=0&rc=PGY2NDU3ZGhmZGg8OzZmOUBpM3F1aGo5cmw4dzMzNzczM0BgMjQ1Yl80Nl8xLWAvNDUyYSM2cW01MmRjM2tgLS1kMTZzcw%253D%253D&btag=e00088000&expire=1740072770&l=202502190132051A7ADD863A5B76788947&ply_type=2&policy=2&signature=6d65191ff905f31fa4160febb6910dcc&tk=tt_chain_token\n"
     ]
    }
   ],
   "source": [
    "\n",
    "\n",
    "def download_tiktok_video(url, params, save_path):\n",
    "    \n",
    "\n",
    "    try:\n",
    "        print(f\"Downloading from: {url}\")\n",
    "\n",
    "        response = requests.get(url, headers=headers, params=params, stream=True)\n",
    "        response.raise_for_status()  # Check for HTTP errors\n",
    "\n",
    "        with open(save_path, 'wb') as video_file:\n",
    "            for chunk in response.iter_content(chunk_size=1024):\n",
    "                video_file.write(chunk)\n",
    "\n",
    "        print(f\"Download complete: {save_path}\")\n",
    "\n",
    "    except requests.RequestException as e:\n",
    "        print(f\"Error downloading video: {e}\")\n",
    "\n",
    "if __name__ == \"__main__\":\n",
    "    video_requests = [\n",
    "        {\n",
    "            \n",
    "            }\n",
    "        }\n",
    "    ]\n",
    "\n",
    "    for index, video in enumerate(video_requests, start=1):\n",
    "        save_path = f\"tiktok_video_{index}.mp4\"\n",
    "        download_tiktok_video(video[\"url\"], video[\"params\"], save_path)\n"
   ]
  }
 ],
 "metadata": {
  "kernelspec": {
   "display_name": ".aiodownloader",
   "language": "python",
   "name": "python3"
  },
  "language_info": {
   "codemirror_mode": {
    "name": "ipython",
    "version": 3
   },
   "file_extension": ".py",
   "mimetype": "text/x-python",
   "name": "python",
   "nbconvert_exporter": "python",
   "pygments_lexer": "ipython3",
   "version": "3.13.1"
  }
 },
 "nbformat": 4,
 "nbformat_minor": 2
}
