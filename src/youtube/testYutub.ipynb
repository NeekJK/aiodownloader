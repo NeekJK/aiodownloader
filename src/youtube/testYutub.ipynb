{
 "cells": [
  {
   "cell_type": "markdown",
   "metadata": {},
   "source": [
    "# YouTube\n",
    "### Prototype code"
   ]
  },
  {
   "cell_type": "markdown",
   "metadata": {},
   "source": [
    "**Required Packages**\n",
    "- yt_dlp"
   ]
  },
  {
   "cell_type": "markdown",
   "metadata": {},
   "source": [
    "#### Libs"
   ]
  },
  {
   "cell_type": "code",
   "execution_count": null,
   "metadata": {},
   "outputs": [],
   "source": [
    "from yt_dlp import YoutubeDL"
   ]
  },
  {
   "cell_type": "markdown",
   "metadata": {},
   "source": [
    "#### Download Video"
   ]
  },
  {
   "cell_type": "code",
   "execution_count": null,
   "metadata": {},
   "outputs": [
    {
     "name": "stdout",
     "output_type": "stream",
     "text": [
      "[youtube] Extracting URL: https://www.youtube.com/watch?v=QB7ACr7pUuE\n",
      "[youtube] QB7ACr7pUuE: Downloading webpage\n",
      "[youtube] QB7ACr7pUuE: Downloading tv client config\n",
      "[youtube] QB7ACr7pUuE: Downloading player c548b3da\n",
      "[youtube] QB7ACr7pUuE: Downloading tv player API JSON\n",
      "[youtube] QB7ACr7pUuE: Downloading ios player API JSON\n",
      "[youtube] QB7ACr7pUuE: Downloading m3u8 information\n",
      "[info] QB7ACr7pUuE: Downloading 1 format(s): 18\n",
      "[download] Destination: E:\\Temp\\Rick roll, but with different link.mp4\n",
      "[download] 100% of  405.32KiB in 00:00:04 at 92.62KiB/s  \n"
     ]
    }
   ],
   "source": [
    "video_url = 'https://www.youtube.com/watch?v=QB7ACr7pUuE'\n",
    "\n",
    "# Set options for the downloader (see package definition)\n",
    "opts = {\n",
    "    'format': 'best[height<=720]',  # Choose the best quality format available up until 720p\n",
    "    'outtmpl': '%(title)s.%(ext)s',  # Output template for the filename\n",
    "    'paths': {'home': 'E:/Temp'} # Output path\n",
    "}\n",
    "\n",
    "# Create a YoutubeDL object and download the video\n",
    "with YoutubeDL(opts) as yt:\n",
    "    yt.download([video_url])"
   ]
  },
  {
   "cell_type": "markdown",
   "metadata": {},
   "source": [
    "#### Scrape Metadata"
   ]
  },
  {
   "cell_type": "code",
   "execution_count": 2,
   "metadata": {},
   "outputs": [
    {
     "name": "stdout",
     "output_type": "stream",
     "text": [
      "[youtube] Extracting URL: https://www.youtube.com/watch?v=QB7ACr7pUuE\n",
      "[youtube] QB7ACr7pUuE: Downloading webpage\n",
      "[youtube] QB7ACr7pUuE: Downloading tv client config\n",
      "[youtube] QB7ACr7pUuE: Downloading player c548b3da\n",
      "[youtube] QB7ACr7pUuE: Downloading tv player API JSON\n",
      "[youtube] QB7ACr7pUuE: Downloading ios player API JSON\n",
      "[youtube] QB7ACr7pUuE: Downloading m3u8 information\n"
     ]
    },
    {
     "name": "stderr",
     "output_type": "stream",
     "text": [
      "WARNING: ffmpeg not found. The downloaded format may not be the best available. Installing ffmpeg is strongly recommended: https://github.com/yt-dlp/yt-dlp#dependencies\n"
     ]
    },
    {
     "name": "stdout",
     "output_type": "stream",
     "text": [
      "{'URL': 'https://www.youtube.com/watch?v=QB7ACr7pUuE', 'Title': 'Rick roll, but with different link', 'Width': 640, 'Height': 360, 'Language': None, 'Channel': 'Rick roll, but with a different link', 'Likes': 25485}\n"
     ]
    }
   ],
   "source": [
    "video_url = \"https://www.youtube.com/watch?v=QB7ACr7pUuE\"\n",
    "opts = dict()\n",
    "\n",
    "with YoutubeDL(opts) as yt:\n",
    "    info = yt.extract_info(video_url, download=False)\n",
    "    video_title = info.get(\"title\")\n",
    "    width = info.get(\"width\")\n",
    "    height = info.get(\"height\")\n",
    "    language = info.get(\"language\")\n",
    "    channel = info.get(\"channel\")\n",
    "    likes = info.get(\"like_count\")\n",
    "\n",
    "    data = {\n",
    "        \"URL\": video_url,\n",
    "        \"Title\": video_title,\n",
    "        \"Width\": width,\n",
    "        \"Height\": height,\n",
    "        \"Language\": language,\n",
    "        \"Channel\": channel,\n",
    "        \"Likes\": likes\n",
    "    }\n",
    "    print(data)"
   ]
  },
  {
   "cell_type": "markdown",
   "metadata": {},
   "source": [
    "# References"
   ]
  },
  {
   "cell_type": "markdown",
   "metadata": {},
   "source": [
    "- https://www.scraperapi.com/web-scraping/youtube/\n",
    "- https://github.com/ytdl-org/youtube-dl?tab=readme-ov-file"
   ]
  }
 ],
 "metadata": {
  "kernelspec": {
   "display_name": "ml_dl",
   "language": "python",
   "name": "python3"
  },
  "language_info": {
   "codemirror_mode": {
    "name": "ipython",
    "version": 3
   },
   "file_extension": ".py",
   "mimetype": "text/x-python",
   "name": "python",
   "nbconvert_exporter": "python",
   "pygments_lexer": "ipython3",
   "version": "3.9.18"
  }
 },
 "nbformat": 4,
 "nbformat_minor": 2
}
